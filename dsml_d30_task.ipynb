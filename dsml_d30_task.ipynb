{
  "nbformat": 4,
  "nbformat_minor": 0,
  "metadata": {
    "colab": {
      "provenance": [],
      "authorship_tag": "ABX9TyN5eRScqj5ITJCuCYW+qWwI",
      "include_colab_link": true
    },
    "kernelspec": {
      "name": "python3",
      "display_name": "Python 3"
    },
    "language_info": {
      "name": "python"
    }
  },
  "cells": [
    {
      "cell_type": "markdown",
      "metadata": {
        "id": "view-in-github",
        "colab_type": "text"
      },
      "source": [
        "<a href=\"https://colab.research.google.com/github/aashwin916/demopython1/blob/main/dsml_d30_task.ipynb\" target=\"_parent\"><img src=\"https://colab.research.google.com/assets/colab-badge.svg\" alt=\"Open In Colab\"/></a>"
      ]
    },
    {
      "cell_type": "code",
      "execution_count": null,
      "metadata": {
        "colab": {
          "base_uri": "https://localhost:8080/"
        },
        "id": "G-Uwp6M5KCcx",
        "outputId": "b54a390d-12f8-4c13-9d9a-780f6644d1c6"
      },
      "outputs": [
        {
          "output_type": "stream",
          "name": "stdout",
          "text": [
            "Enter the start of the range: 3\n",
            "Enter the end of the range: 5\n",
            "There are no numbers within the specified range that satisfy the condition.\n"
          ]
        }
      ],
      "source": [
        "#Write a python program to find those numbers which are divisible by 7 and multiples of 5, for user input.\n",
        "start = int(input(\"Enter the start of the range: \"))\n",
        "end = int(input(\"Enter the end of the range: \"))\n",
        "result = []\n",
        "for num in range(start, end + 1):\n",
        "    if num % 7 == 0 and num % 5 == 0:\n",
        "        result.append(num)\n",
        "\n",
        "if result:\n",
        "    print(\"Numbers divisible by 7 and multiples of 5 within the range are:\")\n",
        "    for num in result:\n",
        "        print(num)\n",
        "else:\n",
        "    print(\"There are no numbers within the specified range that satisfy the condition.\")\n"
      ]
    },
    {
      "cell_type": "code",
      "source": [
        "##Write a python program to check the user input is even or odd or zero.\n",
        "num = int(input(\"Enter a number: \"))\n",
        "\n",
        "if num == 0:\n",
        "    print(\"The number is zero.\")\n",
        "elif num % 2 == 0:\n",
        "    print(\"The number is even.\")\n",
        "else:\n",
        "    print(\"The number is odd.\")\n"
      ],
      "metadata": {
        "colab": {
          "base_uri": "https://localhost:8080/"
        },
        "id": "-ZzJetyAKg6O",
        "outputId": "473f6ef7-d306-48c7-ef2b-66455a85e6a3"
      },
      "execution_count": null,
      "outputs": [
        {
          "output_type": "stream",
          "name": "stdout",
          "text": [
            "Enter a number: 52\n",
            "The number is even.\n"
          ]
        }
      ]
    },
    {
      "cell_type": "code",
      "source": [
        "#Print decimal part of an input number. If the decimal part is zero print the string : “INTEGER”\n",
        "number = float(input(\"Enter a number: \"))\n",
        "\n",
        "\n",
        "integer_part = int(number)\n",
        "decimal_part = number - integer_part\n",
        "\n",
        "if decimal_part == 0:\n",
        "    print(\"INTEGER\")\n",
        "else:\n",
        "    print(decimal_part)\n"
      ],
      "metadata": {
        "colab": {
          "base_uri": "https://localhost:8080/"
        },
        "id": "FOlI85igNyIQ",
        "outputId": "4c182643-00f1-4530-f87c-f05c46c6ffe1"
      },
      "execution_count": null,
      "outputs": [
        {
          "output_type": "stream",
          "name": "stdout",
          "text": [
            "Enter a number: 55.2\n",
            "0.20000000000000284\n"
          ]
        }
      ]
    }
  ]
}